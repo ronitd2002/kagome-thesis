{
 "cells": [
  {
   "cell_type": "code",
   "execution_count": null,
   "id": "c682fef0-6625-4184-8ddd-287d11f929b9",
   "metadata": {
    "tags": []
   },
   "outputs": [],
   "source": [
    "import pennylane as qml\n",
    "import pennylane.numpy as np\n",
    "import networkx as nx\n",
    "from pennylane.transforms import mitigate_with_zne\n",
    "from matplotlib import pyplot as plt"
   ]
  },
  {
   "cell_type": "code",
   "execution_count": null,
   "id": "505ef5d2-aa4e-49be-a4a5-1c3886082cff",
   "metadata": {
    "tags": []
   },
   "outputs": [],
   "source": [
    "graph = nx.Graph(((0, 1), (1, 2), (2, 3), (3,4), (4,5), (0, 5)))\n",
    "from pennylane.qaoa import maxcut\n",
    "hamiltonian_maxcut, hamiltonian_mixer = maxcut(graph)\n",
    "nx.draw(graph, with_labels=True, font_weight='bold')"
   ]
  },
  {
   "cell_type": "code",
   "execution_count": null,
   "id": "dbd5e332-3923-4025-b434-8eea6217fa4f",
   "metadata": {
    "tags": []
   },
   "outputs": [],
   "source": [
    "obs = []\n",
    "coeffs = []\n",
    "\n",
    "for edge in graph.edges():\n",
    "    coeffs.extend([1.0, 1.0, 1.0])\n",
    "    obs.extend([qml.PauliX(edge[0]) @ qml.PauliX(edge[1]),\n",
    "                        qml.PauliY(edge[0]) @ qml.PauliY(edge[1]),\n",
    "                        qml.PauliZ(edge[0]) @ qml.PauliZ(edge[1])])\n",
    "H = qml.Hamiltonian(coeffs, obs)\n",
    "print(H)\n",
    "num_qubits = len(H.wires)\n",
    "print(\"\\nVector space dimension: \", num_qubits)"
   ]
  },
  {
   "cell_type": "code",
   "execution_count": null,
   "id": "ccda495e-8c0f-48b6-85ab-a0a708a189ed",
   "metadata": {
    "tags": []
   },
   "outputs": [],
   "source": [
    "n_layers = 2\n",
    "w1 = np.ones((num_qubits), requires_grad=True)\n",
    "w2 = np.ones((n_layers, num_qubits - 1, 2), requires_grad=True)\n",
    "def ansatz_cost(w1, w2):\n",
    "    qml.SimplifiedTwoDesign(w1, w2, wires=range(num_qubits))\n",
    "    return qml.expval(H)\n",
    "\n",
    "print(qml.draw(ansatz_cost)(w1,w2))"
   ]
  },
  {
   "cell_type": "code",
   "execution_count": null,
   "id": "cc638fb6-47e6-487f-931d-f51774a565eb",
   "metadata": {
    "tags": []
   },
   "outputs": [],
   "source": [
    "dev = qml.device(\"lightning.qubit\", wires=num_qubits)\n",
    "qn1 = qml.QNode(ansatz_cost,dev)\n",
    "res1 = qn1(w1, w2)\n",
    "res1"
   ]
  },
  {
   "cell_type": "markdown",
   "id": "c81c94ec-10b3-4055-a229-af1303d2888c",
   "metadata": {},
   "source": [
    "Let's optimize the square lattice using noise and mitigate using linear extrapolation of the zne method"
   ]
  },
  {
   "cell_type": "code",
   "execution_count": null,
   "id": "5c115fd2-6da0-4e68-b65c-e284ec83bcf6",
   "metadata": {},
   "outputs": [],
   "source": [
    "noise_gate = qml.DepolarizingChannel #artificial noise\n",
    "noise_strength = 0.025 #strength of kraus noise\n",
    "\n",
    "dev_ideal = qml.device(\"default.mixed\", wires=num_qubits) #comparative ideal noiseless device\n",
    "dev_noisy = qml.transforms.insert(dev_ideal, noise_gate, noise_strength, position=\"all\") #noisy device\n",
    "\n",
    "\n",
    "scale_factors=[2]\n",
    "\n",
    "qnode_ideal = qml.QNode(ansatz_cost, dev_ideal) # ideal qnode\n",
    "qnode_noisy = qml.QNode(ansatz_cost, dev_noisy) #noisy qnode\n",
    "qnode_mitigated = mitigate_with_zne(qnode_noisy,\n",
    "    scale_factors=scale_factors,\n",
    "    folding=qml.transforms.fold_global,\n",
    "    extrapolate=qml.transforms.poly_extrapolate, extrapolate_kwargs={'order': 2}\n",
    ") # mitigated qnode"
   ]
  },
  {
   "cell_type": "code",
   "execution_count": null,
   "id": "6f3047f5-7a54-44b3-8f3a-fbeac1ca9a01",
   "metadata": {
    "tags": []
   },
   "outputs": [],
   "source": [
    "print(\"Ideal QNode: \", qnode_ideal(w1, w2))\n",
    "print(\"Mitigated QNode: \", qnode_mitigated(w1, w2))\n",
    "print(\"Noisy QNode: \", qnode_noisy(w1, w2))"
   ]
  },
  {
   "cell_type": "code",
   "execution_count": null,
   "id": "23395e5f-a4b2-4413-964a-116ee4312615",
   "metadata": {
    "tags": []
   },
   "outputs": [],
   "source": [
    "folded_circuits = [qml.transforms.fold_global(qnode_noisy, scale_factor) for scale_factor in scale_factors]\n",
    "print(folded_circuits,\"\\n\\n\")\n",
    "\n",
    "for i in range(len(folded_circuits)):\n",
    "  drawing, ax = qml.draw_mpl(folded_circuits[i])(w1,w2)\n",
    "  fig = drawing.figure\n",
    "  \"\"\"fig.set_figwidth(16)\n",
    "  fig.set_figheight(2.5)\"\"\"\n",
    "  drawing.show()"
   ]
  },
  {
   "cell_type": "code",
   "execution_count": null,
   "id": "ffc9c5aa",
   "metadata": {},
   "outputs": [],
   "source": [
    "def VQE_run(cost_fn, max_iter, stepsize=0.1):\n",
    "    \"\"\"VQE Optimization loop\"\"\"\n",
    "    opt = qml.SPSAOptimizer(maxiter= max_iter)\n",
    "\n",
    "    # fixed initial guess\n",
    "    w1 = np.ones((num_qubits), requires_grad=True)\n",
    "    w2 = np.ones((n_layers, num_qubits - 1, 2), requires_grad=True)\n",
    "\n",
    "    energy = []\n",
    "\n",
    "    # Optimization loop\n",
    "    for n in range(max_iter):\n",
    "        (w1, w2), prev_energy = opt.step_and_cost(cost_fn, w1, w2)\n",
    "\n",
    "        energy.append(prev_energy)\n",
    "        if (n%50 == 0):\n",
    "          print(\"Energy optimization at \",n,\"th step is : \",energy[-1])\n",
    "\n",
    "    energy.append(cost_fn(w1, w2)) # final addition to the last updated params\n",
    "    print(\"Energy optimization at final step is : \",energy[-1],\"\\n\")\n",
    "    return energy # energy list\n",
    "\n",
    "\n",
    "max_iter = 200\n",
    "\n",
    "energy_ideal = VQE_run(qnode_ideal, max_iter)\n",
    "energy_noisy = VQE_run(qnode_noisy, max_iter)\n",
    "energy_mitigated = VQE_run(qnode_mitigated, max_iter)\n",
    "energy_exact = np.min(np.linalg.eigvalsh(qml.matrix(H)))\n",
    "print(\"Exact Ground state: \",energy_exact)"
   ]
  },
  {
   "cell_type": "code",
   "execution_count": null,
   "id": "31c03844-5205-4fe6-81b9-879eeeed59bb",
   "metadata": {
    "tags": []
   },
   "outputs": [],
   "source": [
    "plt.figure(figsize=(10, 7))\n",
    "\n",
    "plt.plot(energy_ideal, \"-\", label=\"VQE ideal\", color = \"m\",linewidth = 0.9)\n",
    "plt.plot(np.arange(stop=max_iter,step=1), [energy_exact]*max_iter, \"-\", label=\"E_exact\", color = \"r\")\n",
    "plt.legend(fontsize=10)\n",
    "\n",
    "plt.xlabel(\"Iteration\", fontsize=10)\n",
    "plt.ylabel(\"Energy\", fontsize=10)\n",
    "plt.show()"
   ]
  },
  {
   "cell_type": "code",
   "execution_count": null,
   "id": "63efc270-f62c-4b19-8042-bdfa17a2823d",
   "metadata": {
    "tags": []
   },
   "outputs": [],
   "source": [
    "print(\"Exact ground state: \",energy_exact)\n",
    "print(\"Ideally optimized after\",max_iter,\" epochs: \",energy_ideal[-1])\n",
    "print(\"ideal optimization error:\",np.abs((energy_ideal[-1] - energy_exact)/energy_exact))"
   ]
  },
  {
   "cell_type": "code",
   "execution_count": null,
   "id": "35b3d776-b940-489f-bee5-ccce711b1426",
   "metadata": {
    "tags": []
   },
   "outputs": [],
   "source": [
    "print(\"Error % for 5 qubit ideal opt = \",np.abs((energy_ideal[-1] - energy_exact)/energy_exact)*100,\"%\")"
   ]
  },
  {
   "cell_type": "code",
   "execution_count": null,
   "id": "dc92d5d5-5380-4883-afc4-024dc2104613",
   "metadata": {
    "tags": []
   },
   "outputs": [],
   "source": [
    "energy_noisy = VQE_run(qnode_noisy, max_iter)\n",
    "energy_mitigated = VQE_run(qnode_mitigated, max_iter)"
   ]
  },
  {
   "cell_type": "markdown",
   "id": "fc2f267f-54b9-41a1-9d78-0ac905d06db3",
   "metadata": {},
   "source": [
    "##### Mitigated results seem wrong"
   ]
  },
  {
   "cell_type": "code",
   "execution_count": null,
   "id": "6f08fa69-32b9-4578-bc76-41547e666e32",
   "metadata": {
    "tags": []
   },
   "outputs": [],
   "source": [
    "print(\"Mitigated result after\",max_iter,\" epochs: \",energy_mitigated[-1])\n",
    "print(\"mitigated optimization error:\",np.abs((energy_mitigated[-1] - energy_exact)/energy_exact))"
   ]
  },
  {
   "cell_type": "code",
   "execution_count": null,
   "id": "1a6a5895-1217-4190-8e00-41fcf41a14b9",
   "metadata": {
    "tags": []
   },
   "outputs": [],
   "source": [
    "plt.figure(figsize=(10, 7))\n",
    "\n",
    "plt.plot(energy_ideal, \"-\", label=\"VQE ideal\", color = \"m\",linewidth = 0.9)\n",
    "plt.plot(energy_noisy, \"-\", label=\"VQE noisy\", color = \"k\",linewidth = 0.9)\n",
    "plt.plot(energy_mitigated, \"-\", label=\"VQE mitigated\", color = \"b\",linewidth = 0.9)\n",
    "plt.plot(np.arange(stop=max_iter,step=1), [energy_exact]*max_iter, \"-\", label=\"E_exact\", color = \"r\")\n",
    "plt.legend(fontsize=10)\n",
    "\n",
    "plt.xlabel(\"Iteration\", fontsize=10)\n",
    "plt.ylabel(\"Energy\", fontsize=10)\n",
    "plt.show()"
   ]
  },
  {
   "cell_type": "code",
   "execution_count": null,
   "id": "48afc7c1-9011-45cd-aa48-0ff01200b2e3",
   "metadata": {},
   "outputs": [],
   "source": []
  }
 ],
 "metadata": {
  "kernelspec": {
   "display_name": "Python 3 (ipykernel)",
   "language": "python",
   "name": "python3"
  },
  "language_info": {
   "codemirror_mode": {
    "name": "ipython",
    "version": 3
   },
   "file_extension": ".py",
   "mimetype": "text/x-python",
   "name": "python",
   "nbconvert_exporter": "python",
   "pygments_lexer": "ipython3",
   "version": "3.11.4"
  }
 },
 "nbformat": 4,
 "nbformat_minor": 5
}
